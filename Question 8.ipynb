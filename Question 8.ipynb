{
 "cells": [
  {
   "cell_type": "code",
   "execution_count": 8,
   "id": "e80c14c8",
   "metadata": {},
   "outputs": [
    {
     "name": "stdout",
     "output_type": "stream",
     "text": [
      "Enter First Number:7\n",
      "The Entered Number is Odd Number\n"
     ]
    }
   ],
   "source": [
    "num=int(input(\"Enter First Number:\"))\n",
    "a= num % 2\n",
    "if a>0:\n",
    "    print(\"The Entered Number is Odd Number\")\n",
    "else:\n",
    "    print(\"The Entered Number is Even Number\")\n"
   ]
  },
  {
   "cell_type": "code",
   "execution_count": null,
   "id": "3b93f7ff",
   "metadata": {},
   "outputs": [],
   "source": []
  }
 ],
 "metadata": {
  "kernelspec": {
   "display_name": "Python 3",
   "language": "python",
   "name": "python3"
  },
  "language_info": {
   "codemirror_mode": {
    "name": "ipython",
    "version": 3
   },
   "file_extension": ".py",
   "mimetype": "text/x-python",
   "name": "python",
   "nbconvert_exporter": "python",
   "pygments_lexer": "ipython3",
   "version": "3.8.8"
  }
 },
 "nbformat": 4,
 "nbformat_minor": 5
}
