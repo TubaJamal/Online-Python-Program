{
 "cells": [
  {
   "cell_type": "code",
   "execution_count": 6,
   "id": "3951c3b8",
   "metadata": {},
   "outputs": [
    {
     "name": "stdout",
     "output_type": "stream",
     "text": [
      "Largest element among th whole list is: 98\n"
     ]
    }
   ],
   "source": [
    "list1 = [56, 98, 34, 83, 25]\n",
    "  \n",
    "list1.sort()\n",
    "  \n",
    "print(\"Largest element among th whole list is:\", list1[-1])"
   ]
  },
  {
   "cell_type": "code",
   "execution_count": null,
   "id": "b785c49b",
   "metadata": {},
   "outputs": [],
   "source": []
  }
 ],
 "metadata": {
  "kernelspec": {
   "display_name": "Python 3",
   "language": "python",
   "name": "python3"
  },
  "language_info": {
   "codemirror_mode": {
    "name": "ipython",
    "version": 3
   },
   "file_extension": ".py",
   "mimetype": "text/x-python",
   "name": "python",
   "nbconvert_exporter": "python",
   "pygments_lexer": "ipython3",
   "version": "3.8.8"
  }
 },
 "nbformat": 4,
 "nbformat_minor": 5
}
