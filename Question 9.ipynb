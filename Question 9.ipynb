{
 "cells": [
  {
   "cell_type": "code",
   "execution_count": 1,
   "id": "5c11cbba",
   "metadata": {},
   "outputs": [],
   "source": [
    "list=[\"apple\",24,\"Hello\",90,\"Tuba\",False,\"Alphabets\",\"Maths\"]\n",
    "a=(\"The Number of Items in the List are:\",len(list))"
   ]
  },
  {
   "cell_type": "code",
   "execution_count": 2,
   "id": "67b5db11",
   "metadata": {},
   "outputs": [
    {
     "name": "stdout",
     "output_type": "stream",
     "text": [
      "The Number of Items in the List are: 8\n"
     ]
    }
   ],
   "source": [
    "list=[\"apple\",24,\"Hello\",90,\"Tuba\",False,\"Alphabets\",\"Maths\"]\n",
    "print(\"The Number of Items in the List are:\",len(list))\n"
   ]
  },
  {
   "cell_type": "code",
   "execution_count": null,
   "id": "93e14678",
   "metadata": {},
   "outputs": [],
   "source": []
  }
 ],
 "metadata": {
  "kernelspec": {
   "display_name": "Python 3",
   "language": "python",
   "name": "python3"
  },
  "language_info": {
   "codemirror_mode": {
    "name": "ipython",
    "version": 3
   },
   "file_extension": ".py",
   "mimetype": "text/x-python",
   "name": "python",
   "nbconvert_exporter": "python",
   "pygments_lexer": "ipython3",
   "version": "3.8.8"
  }
 },
 "nbformat": 4,
 "nbformat_minor": 5
}
